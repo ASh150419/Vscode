{
 "cells": [
  {
   "cell_type": "code",
   "execution_count": 1,
   "metadata": {},
   "outputs": [
    {
     "name": "stdout",
     "output_type": "stream",
     "text": [
      "9873.32 /// 4369.92 /// 149.83 /// 28862.85 /// 37.06 /// 330.74\n",
      "8318439424 \\\\\\\\ 4473278464 \\\\\\\\ 46.2 \\\\\\\\ 3337461760 \\\\\\ 4532436992\n",
      "117512998912 ///// 11460616192 ///// 100035706880 ///// 10.3\n"
     ]
    }
   ],
   "source": [
    "import psutil\n",
    "\n",
    "\n",
    "def _CPU_():\n",
    "    summcpu = {}\n",
    "    cpu_data = psutil.cpu_times()\n",
    "    summcpu.update(user_time=cpu_data.user, system_time=cpu_data.system, nice_time=cpu_data.nice, idle_time=cpu_data.idle, iowait_time=cpu_data.iowait, softirq_time=cpu_data.softirq)\n",
    "    return summcpu\n",
    "\n",
    "def _Memory_():\n",
    "    summmem = {}\n",
    "    memory_data = psutil.virtual_memory()\n",
    "    summmem.update(total_mem=memory_data.total, available_mem=memory_data.available, percent_mem=memory_data.percent, used_mem=memory_data.used, cached_mem=memory_data.cached)\n",
    "    return summmem\n",
    "\n",
    "def _Disk_():\n",
    "    summdisk = {}\n",
    "    disk_data = psutil.disk_usage('/')\n",
    "    summdisk.update(total_disk=disk_data.total, used_disk=disk_data.used, free_disk=disk_data.free, percent_disk=disk_data.percent)\n",
    "    return summdisk\n",
    "\n",
    "def show(cpu=None, mem=None, disk=None):\n",
    "    cpu_template = \"{user_time} /// {system_time} /// {nice_time} /// {idle_time} /// {iowait_time} /// {softirq_time}\"\n",
    "    memory_template = \"{total_mem} \\\\\\\\\\\\\\ {available_mem} \\\\\\\\\\\\\\ {percent_mem} \\\\\\\\\\\\\\ {used_mem} \\\\\\\\\\\\ {cached_mem}\"\n",
    "    disk_template = \"{total_disk} ///// {used_disk} ///// {free_disk} ///// {percent_disk}\"\n",
    "    print(cpu_template.format(**cpu))\n",
    "    print(memory_template.format(**mem))\n",
    "    print(disk_template.format(**disk))\n",
    "\n",
    "def main():\n",
    "    _cpu_ = _CPU_()\n",
    "    _memory_ = _Memory_()\n",
    "    _disk_ = _Disk_()\n",
    "    show(cpu=_cpu_,mem=_memory_, disk=_disk_)\n",
    "\n",
    "\n",
    "if __name__ == \"__main__\":\n",
    "    main()\n",
    "\n"
   ]
  },
  {
   "cell_type": "code",
   "execution_count": null,
   "metadata": {},
   "outputs": [],
   "source": []
  }
 ],
 "metadata": {
  "kernelspec": {
   "display_name": "Python 3.10.4 64-bit",
   "language": "python",
   "name": "python3"
  },
  "language_info": {
   "codemirror_mode": {
    "name": "ipython",
    "version": 3
   },
   "file_extension": ".py",
   "mimetype": "text/x-python",
   "name": "python",
   "nbconvert_exporter": "python",
   "pygments_lexer": "ipython3",
   "version": "3.10.4"
  },
  "orig_nbformat": 4,
  "vscode": {
   "interpreter": {
    "hash": "916dbcbb3f70747c44a77c7bcd40155683ae19c65e1c03b4aa3499c5328201f1"
   }
  }
 },
 "nbformat": 4,
 "nbformat_minor": 2
}
