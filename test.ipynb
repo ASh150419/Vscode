{
 "cells": [
  {
   "cell_type": "code",
   "execution_count": 14,
   "metadata": {},
   "outputs": [
    {
     "name": "stdout",
     "output_type": "stream",
     "text": [
      "Время затрачиваемое обычными процессами /// Процессы в режиме ядра /// Проприетарные процессы ///Время простоя /// Ожидание завершения ввода-вывода ///Обслуживание програмных прерываний, (сек) : 793.42 /// 146.47 /// 4.55 /// 9109.42 /// 13.11 /// 22.42\n",
      "Общая физическая память \\\\\\\\ Память под процессы \\\\\\\\ Используемая память \\\\\\\\ Неиспользуемая память вообще, (байт): 8318431232 \\\\\\\\ 6003068928 \\\\\\\\ 1927327744 \\\\\\ 2229538816\n",
      "Общий объём диска ///// Использемый объём /////Свободный объём ///// Использование(%), (байт) 117512998912 ///// 11237744640 ///// 100258578432 ///// 10.1\n"
     ]
    }
   ],
   "source": [
    "import psutil\n",
    "\n",
    "\n",
    "def _CPU_():\n",
    "    summcpu = {}\n",
    "    cpu_data = psutil.cpu_times()\n",
    "    summcpu.update(user_time=cpu_data.user, system_time=cpu_data.system, nice_time=cpu_data.nice, idle_time=cpu_data.idle, iowait_time=cpu_data.iowait, softirq_time=cpu_data.softirq)\n",
    "    return summcpu\n",
    "\n",
    "\n",
    "def _Memory_():\n",
    "    summmem = {}\n",
    "    memory_data = psutil.virtual_memory()\n",
    "    summmem.update(total_mem=memory_data.total, available_mem=memory_data.available, used_mem=memory_data.used, cached_mem=memory_data.cached)\n",
    "    return summmem\n",
    "\n",
    "\n",
    "def _Disk_():\n",
    "    summdisk = {}\n",
    "    disk_data = psutil.disk_usage('/')\n",
    "    summdisk.update(total_disk=disk_data.total, used_disk=disk_data.used, free_disk=disk_data.free, percent_disk=disk_data.percent)\n",
    "    return summdisk\n",
    "\n",
    "\n",
    "def show(cpu=None, mem=None, disk=None):\n",
    "    cpu_template = \"{user_time} /// {system_time} /// {nice_time} /// {idle_time} /// {iowait_time} /// {softirq_time}\"\n",
    "    memory_template = \"{total_mem} \\\\\\\\\\\\\\ {available_mem} \\\\\\\\\\\\\\ {used_mem} \\\\\\\\\\\\ {cached_mem}\"\n",
    "    disk_template = \"{total_disk} ///// {used_disk} ///// {free_disk} ///// {percent_disk}\"\n",
    "    print(\"Время затрачиваемое обычными процессами /// Процессы в режиме ядра /// Проприетарные процессы ///\"\n",
    "    \"Время простоя /// Ожидание завершения ввода-вывода ///\"\n",
    "            \"Обслуживание програмных прерываний, (сек) :\", cpu_template.format(**cpu)\n",
    "    )\n",
    "    print(\"Общая физическая память \\\\\\\\\\\\\\ Память под процессы \\\\\\\\\\\\\\ \" \n",
    "            \"Используемая память \\\\\\\\\\\\\\ Неиспользуемая память вообще, (байт):\", memory_template.format(**mem)\n",
    "    )\n",
    "    print(\"Общий объём диска ///// Использемый объём /////\"\n",
    "            \"Свободный объём ///// Использование(%), (байт)\", disk_template.format(**disk)\n",
    "    )\n",
    "\n",
    "\n",
    "def main():\n",
    "    _cpu_ = _CPU_()\n",
    "    _memory_ = _Memory_()\n",
    "    _disk_ = _Disk_()\n",
    "    show(cpu=_cpu_,mem=_memory_, disk=_disk_)\n",
    "\n",
    "\n",
    "if __name__ == \"__main__\":\n",
    "    main()\n",
    "\n"
   ]
  },
  {
   "cell_type": "code",
   "execution_count": null,
   "metadata": {},
   "outputs": [],
   "source": []
  },
  {
   "cell_type": "code",
   "execution_count": null,
   "metadata": {},
   "outputs": [],
   "source": []
  }
 ],
 "metadata": {
  "kernelspec": {
   "display_name": "Python 3.10.4 64-bit",
   "language": "python",
   "name": "python3"
  },
  "language_info": {
   "codemirror_mode": {
    "name": "ipython",
    "version": 3
   },
   "file_extension": ".py",
   "mimetype": "text/x-python",
   "name": "python",
   "nbconvert_exporter": "python",
   "pygments_lexer": "ipython3",
   "version": "3.10.4"
  },
  "orig_nbformat": 4,
  "vscode": {
   "interpreter": {
    "hash": "916dbcbb3f70747c44a77c7bcd40155683ae19c65e1c03b4aa3499c5328201f1"
   }
  }
 },
 "nbformat": 4,
 "nbformat_minor": 2
}
